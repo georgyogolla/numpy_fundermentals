{
 "cells": [
  {
   "cell_type": "markdown",
   "id": "721d088c",
   "metadata": {},
   "source": [
    "## Array manipulation\n",
    "## Changing shape"
   ]
  },
  {
   "cell_type": "code",
   "execution_count": 6,
   "id": "541073f1",
   "metadata": {},
   "outputs": [
    {
     "name": "stdout",
     "output_type": "stream",
     "text": [
      "The original array is : \n",
      "[0 1 2 3 4 5 6 7 8]\n",
      "\n",
      "The modified array is : \n",
      "[[0 1 2]\n",
      " [3 4 5]\n",
      " [6 7 8]]\n"
     ]
    }
   ],
   "source": [
    "import numpy as np\n",
    "\n",
    "a = np.arange(9)\n",
    "print(\"The original array is : \")\n",
    "print(a)\n",
    "print()\n",
    "\n",
    "b = a.reshape(3,3)# creating 3 rows and 3 columns of the array\n",
    "print(\"The modified array is : \")\n",
    "print(b)"
   ]
  },
  {
   "cell_type": "code",
   "execution_count": 7,
   "id": "b991dd3c",
   "metadata": {},
   "outputs": [
    {
     "name": "stdout",
     "output_type": "stream",
     "text": [
      "[0 1 2 3 4 5 6 7 8]\n"
     ]
    }
   ],
   "source": [
    "# returning the modified array to its original form\n",
    "print(b.flatten())"
   ]
  },
  {
   "cell_type": "code",
   "execution_count": 9,
   "id": "eb6c3a63",
   "metadata": {},
   "outputs": [
    {
     "name": "stdout",
     "output_type": "stream",
     "text": [
      "[[ 0  1  2]\n",
      " [ 3  4  5]\n",
      " [ 6  7  8]\n",
      " [ 9 10 11]]\n"
     ]
    }
   ],
   "source": [
    "c = np.arange(12).reshape(4,3)\n",
    "print(c)"
   ]
  },
  {
   "cell_type": "code",
   "execution_count": 10,
   "id": "9c67d598",
   "metadata": {},
   "outputs": [
    {
     "data": {
      "text/plain": [
       "array([[ 0,  3,  6,  9],\n",
       "       [ 1,  4,  7, 10],\n",
       "       [ 2,  5,  8, 11]])"
      ]
     },
     "execution_count": 10,
     "metadata": {},
     "output_type": "execute_result"
    }
   ],
   "source": [
    "# swapping the reshaped aray using transpose method\n",
    "np.transpose(c)"
   ]
  },
  {
   "cell_type": "code",
   "execution_count": 11,
   "id": "2a7e3931",
   "metadata": {},
   "outputs": [
    {
     "name": "stdout",
     "output_type": "stream",
     "text": [
      "[[0 1 2 3]\n",
      " [4 5 6 7]]\n"
     ]
    }
   ],
   "source": [
    "d = np.arange(8).reshape(2,4)\n",
    "print(d)"
   ]
  },
  {
   "cell_type": "code",
   "execution_count": 12,
   "id": "c89db900",
   "metadata": {},
   "outputs": [
    {
     "name": "stdout",
     "output_type": "stream",
     "text": [
      "[[[0 1]\n",
      "  [2 3]]\n",
      "\n",
      " [[4 5]\n",
      "  [6 7]]]\n"
     ]
    }
   ],
   "source": [
    "e = d.reshape(2,2,2)\n",
    "print(e)"
   ]
  },
  {
   "cell_type": "code",
   "execution_count": 14,
   "id": "ce04cc9f",
   "metadata": {},
   "outputs": [
    {
     "name": "stdout",
     "output_type": "stream",
     "text": [
      "[[[0 2]\n",
      "  [1 3]]\n",
      "\n",
      " [[4 6]\n",
      "  [5 7]]]\n"
     ]
    }
   ],
   "source": [
    "f = np.rollaxis(e,2,1)\n",
    "print(f)"
   ]
  },
  {
   "cell_type": "code",
   "execution_count": 15,
   "id": "8600a193",
   "metadata": {},
   "outputs": [
    {
     "name": "stdout",
     "output_type": "stream",
     "text": [
      "[[[0 1]\n",
      "  [4 5]]\n",
      "\n",
      " [[2 3]\n",
      "  [6 7]]]\n"
     ]
    }
   ],
   "source": [
    "g = np.rollaxis(e,1)#rolls by 1 digit\n",
    "print(g)"
   ]
  },
  {
   "cell_type": "code",
   "execution_count": 16,
   "id": "632ce8ac",
   "metadata": {},
   "outputs": [
    {
     "name": "stdout",
     "output_type": "stream",
     "text": [
      "[[[0 2]\n",
      "  [4 6]]\n",
      "\n",
      " [[1 3]\n",
      "  [5 7]]]\n"
     ]
    }
   ],
   "source": [
    "# rolling by 2 digits\n",
    "h = np.rollaxis(e,2)\n",
    "print(h)"
   ]
  },
  {
   "cell_type": "code",
   "execution_count": 18,
   "id": "8925559c",
   "metadata": {},
   "outputs": [
    {
     "name": "stdout",
     "output_type": "stream",
     "text": [
      "[[[0 2]\n",
      "  [1 3]]\n",
      "\n",
      " [[4 6]\n",
      "  [5 7]]]\n"
     ]
    }
   ],
   "source": [
    "i = np.swapaxes(e,1,2)#swapping values\n",
    "print(i)"
   ]
  },
  {
   "cell_type": "markdown",
   "id": "6305400f",
   "metadata": {},
   "source": [
    "## Numpy Arithmetic operations"
   ]
  },
  {
   "cell_type": "code",
   "execution_count": 21,
   "id": "57444200",
   "metadata": {},
   "outputs": [],
   "source": [
    "num1 = np.arange(9).reshape(3,3)"
   ]
  },
  {
   "cell_type": "code",
   "execution_count": 24,
   "id": "b4cf3836",
   "metadata": {},
   "outputs": [
    {
     "name": "stdout",
     "output_type": "stream",
     "text": [
      "[[0 1 2]\n",
      " [3 4 5]\n",
      " [6 7 8]]\n"
     ]
    }
   ],
   "source": [
    "print(num1)"
   ]
  },
  {
   "cell_type": "code",
   "execution_count": 25,
   "id": "1d2b3974",
   "metadata": {},
   "outputs": [
    {
     "name": "stdout",
     "output_type": "stream",
     "text": [
      "[10 11 12]\n"
     ]
    }
   ],
   "source": [
    "num2 = np.array([10,11,12])\n",
    "print(num2)"
   ]
  },
  {
   "cell_type": "code",
   "execution_count": 27,
   "id": "c59a360d",
   "metadata": {},
   "outputs": [
    {
     "name": "stdout",
     "output_type": "stream",
     "text": [
      "[[10 12 14]\n",
      " [13 15 17]\n",
      " [16 18 20]]\n"
     ]
    }
   ],
   "source": [
    "total = np.add(num1,num2)\n",
    "print(total)"
   ]
  },
  {
   "cell_type": "code",
   "execution_count": 29,
   "id": "3e3f962e",
   "metadata": {},
   "outputs": [
    {
     "name": "stdout",
     "output_type": "stream",
     "text": [
      "[[-10 -10 -10]\n",
      " [ -7  -7  -7]\n",
      " [ -4  -4  -4]]\n"
     ]
    }
   ],
   "source": [
    "subtraction = np.subtract(num1,num2)\n",
    "print(subtraction)"
   ]
  },
  {
   "cell_type": "code",
   "execution_count": 30,
   "id": "2e47cac7",
   "metadata": {},
   "outputs": [
    {
     "name": "stdout",
     "output_type": "stream",
     "text": [
      "[[ 0 11 24]\n",
      " [30 44 60]\n",
      " [60 77 96]]\n"
     ]
    }
   ],
   "source": [
    "product = np.multiply(num1,num2)\n",
    "print(product)"
   ]
  },
  {
   "cell_type": "code",
   "execution_count": 31,
   "id": "3bc3fff2",
   "metadata": {},
   "outputs": [
    {
     "name": "stdout",
     "output_type": "stream",
     "text": [
      "[[0.         0.09090909 0.16666667]\n",
      " [0.3        0.36363636 0.41666667]\n",
      " [0.6        0.63636364 0.66666667]]\n"
     ]
    }
   ],
   "source": [
    "division = np.divide(num1,num2)\n",
    "print(division)"
   ]
  },
  {
   "cell_type": "markdown",
   "id": "c7a9d6d7",
   "metadata": {},
   "source": [
    "# Slicing"
   ]
  },
  {
   "cell_type": "code",
   "execution_count": 32,
   "id": "88a8cc9c",
   "metadata": {},
   "outputs": [
    {
     "name": "stdout",
     "output_type": "stream",
     "text": [
      "[ 0  1  2  3  4  5  6  7  8  9 10 11 12 13 14 15 16 17 18 19]\n"
     ]
    }
   ],
   "source": [
    "a = np.arange(20) \n",
    "print(a)"
   ]
  },
  {
   "cell_type": "code",
   "execution_count": 33,
   "id": "cfb9c053",
   "metadata": {},
   "outputs": [
    {
     "data": {
      "text/plain": [
       "array([ 4,  5,  6,  7,  8,  9, 10, 11, 12, 13, 14, 15, 16, 17, 18, 19])"
      ]
     },
     "execution_count": 33,
     "metadata": {},
     "output_type": "execute_result"
    }
   ],
   "source": [
    "a[4:]"
   ]
  },
  {
   "cell_type": "code",
   "execution_count": 35,
   "id": "4be871bb",
   "metadata": {},
   "outputs": [
    {
     "data": {
      "text/plain": [
       "array([0, 1, 2, 3])"
      ]
     },
     "execution_count": 35,
     "metadata": {},
     "output_type": "execute_result"
    }
   ],
   "source": [
    "a[:4]"
   ]
  },
  {
   "cell_type": "code",
   "execution_count": 38,
   "id": "d94c0940",
   "metadata": {},
   "outputs": [
    {
     "data": {
      "text/plain": [
       "array([2, 4, 6, 8])"
      ]
     },
     "execution_count": 38,
     "metadata": {},
     "output_type": "execute_result"
    }
   ],
   "source": [
    "s = slice(2,9,2)\n",
    "a[s]"
   ]
  },
  {
   "cell_type": "markdown",
   "id": "2fa4596b",
   "metadata": {},
   "source": [
    "# iterating over Array"
   ]
  },
  {
   "cell_type": "code",
   "execution_count": 40,
   "id": "b9884878",
   "metadata": {},
   "outputs": [
    {
     "name": "stdout",
     "output_type": "stream",
     "text": [
      "[[ 0  5 10]\n",
      " [15 20 25]\n",
      " [30 35 40]]\n"
     ]
    }
   ],
   "source": [
    "a = np.arange(0, 45, 5)\n",
    "a = a.reshape(3,3)\n",
    "print(a)"
   ]
  },
  {
   "cell_type": "code",
   "execution_count": 42,
   "id": "1ba7ee94",
   "metadata": {},
   "outputs": [
    {
     "name": "stdout",
     "output_type": "stream",
     "text": [
      "0\n",
      "5\n",
      "10\n",
      "15\n",
      "20\n",
      "25\n",
      "30\n",
      "35\n",
      "40\n"
     ]
    }
   ],
   "source": [
    " for x in np.nditer(a):\n",
    "        print(x)"
   ]
  },
  {
   "cell_type": "markdown",
   "id": "9b09bb69",
   "metadata": {},
   "source": [
    "# Iteration orde (c-style and f-style)"
   ]
  },
  {
   "cell_type": "code",
   "execution_count": 44,
   "id": "f32d3931",
   "metadata": {},
   "outputs": [
    {
     "name": "stdout",
     "output_type": "stream",
     "text": [
      "[[ 0  5 10]\n",
      " [15 20 25]\n",
      " [30 35 40]]\n",
      "0\n",
      "5\n",
      "10\n",
      "15\n",
      "20\n",
      "25\n",
      "30\n",
      "35\n",
      "40\n",
      "0\n",
      "15\n",
      "30\n",
      "5\n",
      "20\n",
      "35\n",
      "10\n",
      "25\n",
      "40\n"
     ]
    }
   ],
   "source": [
    "print(a)\n",
    "for x in np.nditer(a, order=\"C\"):\n",
    "    print(x)\n",
    "\n",
    "for x in np.nditer(a, order=\"F\"):\n",
    "    print(x)"
   ]
  },
  {
   "cell_type": "markdown",
   "id": "dca6bd8c",
   "metadata": {},
   "source": [
    "# Joining arrays"
   ]
  },
  {
   "cell_type": "code",
   "execution_count": 47,
   "id": "a823f2b4",
   "metadata": {},
   "outputs": [
    {
     "name": "stdout",
     "output_type": "stream",
     "text": [
      "first array\n",
      "[[1 2]\n",
      " [3 4]]\n",
      "\n",
      "second array\n",
      "[[5 6]\n",
      " [7 8]]\n",
      "\n",
      "\n",
      "Joining the two arrays along axis 0:\n",
      "[[1 2]\n",
      " [3 4]\n",
      " [5 6]\n",
      " [7 8]]\n",
      "\n",
      "\n",
      "Joining the two arrays along axis 1:\n",
      "[[1 2 5 6]\n",
      " [3 4 7 8]]\n"
     ]
    }
   ],
   "source": [
    "a = np.array([[1,2],[3,4]])\n",
    "print('first array')\n",
    "print(a)\n",
    "print()\n",
    "b = np.array([[5,6],[7,8]])\n",
    "print('second array')\n",
    "print(b)\n",
    "print('\\n')\n",
    "print('Joining the two arrays along axis 0:' )\n",
    "print(np.concatenate((a,b)) )\n",
    "print( '\\n' )\n",
    "print('Joining the two arrays along axis 1:' )\n",
    "print(np.concatenate((a,b), axis = 1))\n"
   ]
  },
  {
   "cell_type": "markdown",
   "id": "04a08423",
   "metadata": {},
   "source": [
    "# Splitting array"
   ]
  },
  {
   "cell_type": "code",
   "execution_count": 48,
   "id": "8bee4f2a",
   "metadata": {},
   "outputs": [
    {
     "data": {
      "text/plain": [
       "[array([0, 1, 2]), array([3, 4, 5]), array([6, 7, 8])]"
      ]
     },
     "execution_count": 48,
     "metadata": {},
     "output_type": "execute_result"
    }
   ],
   "source": [
    "a = np.arange(9)\n",
    "np.split(a,3)"
   ]
  },
  {
   "cell_type": "code",
   "execution_count": 49,
   "id": "ee601af1",
   "metadata": {},
   "outputs": [
    {
     "data": {
      "text/plain": [
       "[array([0, 1, 2, 3]), array([4]), array([5, 6, 7, 8])]"
      ]
     },
     "execution_count": 49,
     "metadata": {},
     "output_type": "execute_result"
    }
   ],
   "source": [
    "np.split(a,[4,5])"
   ]
  },
  {
   "cell_type": "code",
   "execution_count": 50,
   "id": "98e820c0",
   "metadata": {},
   "outputs": [
    {
     "data": {
      "text/plain": [
       "[array([0, 1, 2, 3]), array([4, 5, 6]), array([7, 8])]"
      ]
     },
     "execution_count": 50,
     "metadata": {},
     "output_type": "execute_result"
    }
   ],
   "source": [
    "np.split(a,[4,7])"
   ]
  },
  {
   "cell_type": "markdown",
   "id": "fbc22b3a",
   "metadata": {},
   "source": [
    " # Resizing arrays"
   ]
  },
  {
   "cell_type": "code",
   "execution_count": 52,
   "id": "b9f4c8cb",
   "metadata": {},
   "outputs": [
    {
     "name": "stdout",
     "output_type": "stream",
     "text": [
      "[[1 2 3]\n",
      " [4 5 6]]\n",
      "(2, 3)\n",
      "\n",
      "\n",
      "[[1 2]\n",
      " [3 4]\n",
      " [5 6]]\n",
      "(3, 2)\n"
     ]
    }
   ],
   "source": [
    "a = np.array([[1,2,3],[4,5,6]])\n",
    "print(a)\n",
    "print(a.shape)\n",
    "print('\\n')\n",
    "b = np.resize(a, (3,2))\n",
    "print(b)\n",
    "print(b.shape)"
   ]
  },
  {
   "cell_type": "markdown",
   "id": "464eeb6c",
   "metadata": {},
   "source": [
    "# Histogram"
   ]
  },
  {
   "cell_type": "code",
   "execution_count": 2,
   "id": "58ba03fc",
   "metadata": {},
   "outputs": [
    {
     "data": {
      "image/png": "[encoded data removed]",
      "text/plain": [
       "<Figure size 432x288 with 1 Axes>"
      ]
     },
     "metadata": {
      "needs_background": "light"
     },
     "output_type": "display_data"
    }
   ],
   "source": [
    "from matplotlib import pyplot as plt\n",
    "import numpy as np\n",
    "a = np.array([20,87,4,40,53,74,56,51,11,20,40,15,79,25,27])\n",
    "plt.hist(a, bins = [0,20,40,60,80,100])\n",
    "plt.title(\"histogram\")\n",
    "plt.show()"
   ]
  },
  {
   "cell_type": "markdown",
   "id": "0dee262d",
   "metadata": {},
   "source": [
    "# More numpy functions"
   ]
  },
  {
   "cell_type": "code",
   "execution_count": 4,
   "id": "b26a5e14",
   "metadata": {},
   "outputs": [
    {
     "name": "stdout",
     "output_type": "stream",
     "text": [
      "[1.         1.22222222 1.44444444 1.66666667 1.88888889 2.11111111\n",
      " 2.33333333 2.55555556 2.77777778 3.        ]\n"
     ]
    }
   ],
   "source": [
    "# linspace function\n",
    "a = np.linspace(1,3,10)\n",
    "print(a)"
   ]
  },
  {
   "cell_type": "code",
   "execution_count": 10,
   "id": "4f65af0a",
   "metadata": {},
   "outputs": [
    {
     "name": "stdout",
     "output_type": "stream",
     "text": [
      "Summation for columns: \n",
      "[4 6 8]\n",
      "\n",
      "\n",
      "Summation for rows: \n",
      "[ 6 12]\n"
     ]
    }
   ],
   "source": [
    "# sum and axis\n",
    "a = np.array([(1,2,3),(3,4,5)])\n",
    "print(\"Summation for columns: \")\n",
    "print(a.sum(axis=0))\n",
    "print(\"\\n\")\n",
    "print('Summation for rows: ')\n",
    "print(a.sum(axis=1))"
   ]
  },
  {
   "cell_type": "code",
   "execution_count": 12,
   "id": "3e824c67",
   "metadata": {},
   "outputs": [
    {
     "name": "stdout",
     "output_type": "stream",
     "text": [
      "[[1.         1.41421356 1.73205081]\n",
      " [2.         2.23606798 2.44948974]]\n",
      "\n",
      "1.707825127659933\n"
     ]
    }
   ],
   "source": [
    "# square root and standard deviation\n",
    "a = np.array([(1,2,3),(4,5,6)])\n",
    "print(np.sqrt(a))\n",
    "print()\n",
    "print(np.std(a))"
   ]
  },
  {
   "cell_type": "code",
   "execution_count": 13,
   "id": "fd1c0d21",
   "metadata": {},
   "outputs": [
    {
     "name": "stdout",
     "output_type": "stream",
     "text": [
      "[1 2 3 3 4 5]\n"
     ]
    }
   ],
   "source": [
    "# ravel function\n",
    "x = np.array([(1,2,3),(3,4,5)])\n",
    "print(x.ravel())"
   ]
  },
  {
   "cell_type": "code",
   "execution_count": 14,
   "id": "074df641",
   "metadata": {},
   "outputs": [
    {
     "name": "stdout",
     "output_type": "stream",
     "text": [
      "[0.         0.30103    0.47712125]\n"
     ]
    }
   ],
   "source": [
    "a =np.array([1,2,3])\n",
    "print(np.log10(a))"
   ]
  },
  {
   "cell_type": "markdown",
   "id": "a63ecc15",
   "metadata": {},
   "source": [
    "# Numpy Practise Example"
   ]
  },
  {
   "cell_type": "code",
   "execution_count": 18,
   "id": "3f900118",
   "metadata": {},
   "outputs": [
    {
     "name": "stdout",
     "output_type": "stream",
     "text": [
      "\n"
     ]
    },
    {
     "data": {
      "image/png": "[encoded data removed]",
      "text/plain": [
       "<Figure size 432x288 with 1 Axes>"
      ]
     },
     "metadata": {
      "needs_background": "light"
     },
     "output_type": "display_data"
    }
   ],
   "source": [
    "# ploting a sin graph using numpy and matplotlib\n",
    "import numpy as np\n",
    "import matplotlib.pyplot as plt\n",
    "\n",
    "x = np.arange(0,3*np.pi,0.1)\n",
    "# print(x)\n",
    "print()\n",
    "y = np.sin(x)\n",
    "# print(y)\n",
    "plt.plot(x,y)\n",
    "plt.show()\n"
   ]
  },
  {
   "cell_type": "code",
   "execution_count": 32,
   "id": "8e1da8d4",
   "metadata": {},
   "outputs": [
    {
     "name": "stdout",
     "output_type": "stream",
     "text": [
      "[[0 1 0 1 0 1]\n",
      " [1 0 1 0 1 0]\n",
      " [0 1 0 1 0 1]\n",
      " [1 0 1 0 1 0]\n",
      " [0 1 0 1 0 1]\n",
      " [1 0 1 0 1 0]]\n",
      "\n",
      "\n",
      "[[1 1 1 1 1 1]\n",
      " [1 1 1 1 1 1]\n",
      " [1 1 1 1 1 1]\n",
      " [1 1 1 1 1 1]\n",
      " [1 1 1 1 1 1]\n",
      " [1 1 1 1 1 1]]\n"
     ]
    }
   ],
   "source": [
    "# Create a 6*6 two-imensional array, and let 1 and 0 be placed alternatively acrross the diognals\n",
    "z = np.zeros((6,6),dtype=int)\n",
    "z[1::2,::2] = 1\n",
    "z[::2,1::2] = 1\n",
    "# print('This is a 6 by 6 two dimensional array of zeros: ')\n",
    "print(z)\n",
    "print(\"\\n\")\n",
    "y = np.ones((6,6),dtype=int)\n",
    "# print(\"This is a 6 by 6 two-dimensional array pof ones: \")\n",
    "print(y)"
   ]
  },
  {
   "cell_type": "code",
   "execution_count": 34,
   "id": "a4c27600",
   "metadata": {},
   "outputs": [
    {
     "name": "stdout",
     "output_type": "stream",
     "text": [
      "[[0.05506187 0.0109269  0.18610282 0.3271065  0.90136845 0.67538884\n",
      "  0.81880123 0.87064732 0.53449129 0.31737611]\n",
      " [0.11248034 0.40822533 0.88887079 0.30372655 0.80326596 0.621522\n",
      "  0.87087143 0.49921895 0.09179089 0.57597135]\n",
      " [0.76357296 0.30242711 0.0936529  0.22207039 0.77069253 0.50537921\n",
      "  0.12637834 0.69669775 0.40053022 0.22037013]\n",
      " [0.63496175 0.32524855 0.04147516 0.15907085 0.10311913 0.17489372\n",
      "  0.4508152  0.61698932 0.18351785 0.6314635 ]\n",
      " [0.12592544 0.83445622 0.53970763 0.72742015 0.2134153  0.75661104\n",
      "         nan 0.3173525  0.46641377 0.30213168]\n",
      " [0.79357071 0.53095495 0.33560159 0.71084675 0.09935799 0.27331179\n",
      "  0.16644027 0.82463058 0.27742802 0.16408724]\n",
      " [0.83563392        nan 0.09922169 0.69015941 0.17584047 0.13852148\n",
      "  0.39260581 0.07024915 0.85438862        nan]\n",
      " [0.45090727 0.10283468 0.08168403 0.4491531  0.02854854 0.07620131\n",
      "  0.38313822 0.71794275        nan 0.6966281 ]\n",
      " [0.37646283 0.75616399 0.17685718 0.13731272 0.72034645 0.28003212\n",
      "  0.31934572 0.65705887        nan 0.74130924]\n",
      " [0.25243732 0.42863629 0.34069821 0.84453472 0.18203003 0.50207158\n",
      "  0.98981437 0.75926085 0.93137349 0.61128317]]\n"
     ]
    }
   ],
   "source": [
    "# Find the total number and locations of missing values in the array\n",
    "z = np.random.rand(10,10)\n",
    "z[np.random.randint(10, size=5), np.random.randint(10, size=5)] = np.nan\n",
    "print(z)"
   ]
  },
  {
   "cell_type": "code",
   "execution_count": 36,
   "id": "6b428287",
   "metadata": {},
   "outputs": [
    {
     "name": "stdout",
     "output_type": "stream",
     "text": [
      "Total number of missing values: \n",
      " 5\n",
      "Indexes of missing values: \n",
      " [[4 6]\n",
      " [6 1]\n",
      " [6 9]\n",
      " [7 8]\n",
      " [8 8]]\n"
     ]
    }
   ],
   "source": [
    "# Checking non values and their total\n",
    "print(\"Total number of missing values: \\n\", np.isnan(z).sum())\n",
    "print(\"Indexes of missing values: \\n\", np.argwhere(np.isnan(z)))"
   ]
  },
  {
   "cell_type": "code",
   "execution_count": null,
   "id": "e4f0e12e",
   "metadata": {},
   "outputs": [],
   "source": []
  }
 ],
 "metadata": {
  "kernelspec": {
   "display_name": "Python 3 (ipykernel)",
   "language": "python",
   "name": "python3"
  },
  "language_info": {
   "codemirror_mode": {
    "name": "ipython",
    "version": 3
   },
   "file_extension": ".py",
   "mimetype": "text/x-python",
   "name": "python",
   "nbconvert_exporter": "python",
   "pygments_lexer": "ipython3",
   "version": "3.9.7"
  }
 },
 "nbformat": 4,
 "nbformat_minor": 5
}
